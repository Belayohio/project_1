{
 "cells": [
  {
   "cell_type": "code",
   "execution_count": null,
   "id": "8cac1180-778b-4231-a01e-19ceefbd5623",
   "metadata": {},
   "outputs": [],
   "source": [
    "#CV_work_notebook\n"
   ]
  },
  {
   "cell_type": "code",
   "execution_count": null,
   "id": "2d8ceb5a-8638-47d7-84b5-01d0ce7e2b5c",
   "metadata": {},
   "outputs": [],
   "source": []
  }
 ],
 "metadata": {
  "kernelspec": {
   "display_name": "Python 3 (ipykernel)",
   "language": "python",
   "name": "python3"
  },
  "language_info": {
   "codemirror_mode": {
    "name": "ipython",
    "version": 3
   },
   "file_extension": ".py",
   "mimetype": "text/x-python",
   "name": "python",
   "nbconvert_exporter": "python",
   "pygments_lexer": "ipython3",
   "version": "3.10.14"
  }
 },
 "nbformat": 4,
 "nbformat_minor": 5
}
